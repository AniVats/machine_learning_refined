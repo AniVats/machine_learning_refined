{
 "cells": [
  {
   "cell_type": "code",
   "execution_count": 3,
   "metadata": {
    "collapsed": true
   },
   "outputs": [],
   "source": [
    "# This file is associated with the book\n",
    "# \"Machine Learning Refined\", Cambridge University Press, 2016.\n",
    "# by Jeremy Watt, Reza Borhani, and Aggelos Katsaggelos.\n",
    "\n",
    "import numpy as np\n",
    "import numpy.matlib\n",
    "import matplotlib.pyplot as plt\n",
    "from __future__ import division"
   ]
  },
  {
   "cell_type": "markdown",
   "metadata": {},
   "source": [
    "A simple data loading function."
   ]
  },
  {
   "cell_type": "code",
   "execution_count": 4,
   "metadata": {
    "collapsed": true
   },
   "outputs": [],
   "source": [
    "### load data\n",
    "def load_data(csvname):\n",
    "    data = np.array(np.genfromtxt(csvname, delimiter=','))\n",
    "    X = data[:,0:-1]\n",
    "    y = data[:,-1]\n",
    "    y = np.reshape(y,(np.size(y),1))\n",
    "    return X,y"
   ]
  },
  {
   "cell_type": "markdown",
   "metadata": {},
   "source": [
    "All of the functionality we need to create a gradient descent loop - including functions for computing cost function value, and the descent loop itself."
   ]
  },
  {
   "cell_type": "code",
   "execution_count": 5,
   "metadata": {
    "collapsed": true
   },
   "outputs": [],
   "source": [
    "# avoid overflow when using exp - just cutoff after arguments get too large/small\n",
    "def my_exp(u):\n",
    "    s = np.argwhere(u > 100)\n",
    "    t = np.argwhere(u < -100)\n",
    "    u[s] = 0\n",
    "    u[t] = 0\n",
    "    u = np.exp(u)\n",
    "    u[t] = 1\n",
    "    return u\n",
    "\n",
    "# sigmoid function for writing things more compactly\n",
    "def sigmoid(z):\n",
    "    return 1/(1+my_exp(-z))\n",
    "\n",
    "# compute the current value of the cost function\n",
    "def compute_cost(z,H,A):\n",
    "    F = np.zeros((M,np.shape(A)[1]))\n",
    "    for p in np.arange(0,np.shape(A)[1]):\n",
    "        F[:,p] = np.ravel(np.tanh(z + np.dot(H.T,np.reshape(A[:,p],(np.shape(A)[0],1)))))\n",
    "    return F\n",
    "\n",
    "# gradient descent for single layer tanh nn \n",
    "def gradient_descent(X,y,M):\n",
    "    # initializations\n",
    "    N = np.shape(X)[0]\n",
    "    P = np.shape(X)[1]\n",
    "\n",
    "    b = np.random.randn()\n",
    "    w = np.random.randn(M,1)\n",
    "    c = np.random.randn(M,1)\n",
    "    V = np.random.randn(N,M)\n",
    "    l_P = np.ones((P,1))\n",
    "\n",
    "    # stoppers\n",
    "    max_its = 10000\n",
    "\n",
    "    ### main ###\n",
    "    for k in range(max_its):\n",
    "\n",
    "        F = compute_cost(c,V,X)\n",
    "\n",
    "        # calculate gradients\n",
    "        q = sigmoid(-y*(b + np.dot(F.T,w)))\n",
    "        grad_b = - np.dot(l_P.T,(q*y))\n",
    "        grad_w = np.zeros((M,1))\n",
    "        grad_c = np.zeros((M,1))\n",
    "        grad_V = np.zeros((N,M))\n",
    "\n",
    "        for n in np.arange(0,M):\n",
    "            t = np.tanh(c[n] + np.dot(X.T,V[:,n]))\n",
    "            t = np.reshape(t,(np.size(t),1))\n",
    "            s = (1/np.cosh(c[n] + np.dot(X.T,V[:,n])))**2\n",
    "            s = np.reshape(s,(np.size(s),1))\n",
    "            grad_w[n] = - np.dot(l_P.T,(q*t*y))\n",
    "            grad_c[n] = - np.dot(l_P.T,(q*s*y)*w[n])\n",
    "            grad_V[:,n] = - np.ravel(np.dot(X,(q*s*y)*w[n]))\n",
    "\n",
    "        # determine steplength\n",
    "        alpha = 1e-2\n",
    "\n",
    "        # take gradient steps\n",
    "        b = b - alpha*grad_b\n",
    "        w = w - alpha*grad_w\n",
    "        c = c - alpha*grad_c\n",
    "        V = V - alpha*grad_V\n",
    "\n",
    "    return b, w, c, V"
   ]
  },
  {
   "cell_type": "markdown",
   "metadata": {},
   "source": [
    "Next our plotting functionality - both plotting points and nonlinear separator."
   ]
  },
  {
   "cell_type": "code",
   "execution_count": 10,
   "metadata": {
    "collapsed": true
   },
   "outputs": [],
   "source": [
    "# plot points\n",
    "def plot_points(X,y):\n",
    "    ind = np.nonzero(y==1)[0]\n",
    "    plt.plot(X[ind,0],X[ind,1],'ro')\n",
    "    ind = np.nonzero(y==-1)[0]\n",
    "    plt.plot(X[ind,0],X[ind,1],'bo')\n",
    "    plt.hold(True)\n",
    "\n",
    "# plot the seprator + surface\n",
    "def plot_separator(b,w,c,V,X,y):\n",
    "    s = np.arange(-1,1,.01)\n",
    "    s1, s2 = np.meshgrid(s,s)\n",
    "\n",
    "    s1 = np.reshape(s1,(np.size(s1),1))\n",
    "    s2 = np.reshape(s2,(np.size(s2),1))\n",
    "    g = np.zeros((np.size(s1),1))\n",
    "\n",
    "    t = np.zeros((2,1))\n",
    "    for i in np.arange(0,np.size(s1)):\n",
    "        t[0] = s1[i]\n",
    "        t[1] = s2[i]\n",
    "        F = compute_cost(c,V,t)\n",
    "        g[i] = np.tanh(b + np.dot(F.T,w))\n",
    "\n",
    "    s1 = np.reshape(s1,(np.size(s),np.size(s)))\n",
    "    s2 = np.reshape(s2,(np.size(s),np.size(s)))\n",
    "    g = np.reshape(g,(np.size(s),np.size(s)))\n",
    "\n",
    "    # plot contour in original space\n",
    "    plt.contour(s1,s2,g,1,color = 'k')\n",
    "    plt.gca().xaxis.set_major_locator(plt.NullLocator())\n",
    "    plt.gca().yaxis.set_major_locator(plt.NullLocator())\n",
    "    plt.xlim(0,1)\n",
    "    plt.ylim(0,1)\n",
    "    plt.hold(True)"
   ]
  },
  {
   "cell_type": "markdown",
   "metadata": {},
   "source": [
    "With everything defined lets run all."
   ]
  },
  {
   "cell_type": "code",
   "execution_count": 13,
   "metadata": {
    "collapsed": false
   },
   "outputs": [
    {
     "data": {
      "image/png": "[encoded data removed]",
      "text/plain": [
       "<matplotlib.figure.Figure at 0x10cc99490>"
      ]
     },
     "metadata": {},
     "output_type": "display_data"
    }
   ],
   "source": [
    "# load data\n",
    "X, y = load_data('genreg_data.csv')\n",
    "M = 4                  # number of basis functions to use / hidden units\n",
    "\n",
    "# perform gradient descent to fit tanh basis sum\n",
    "b,w,c,V = gradient_descent(X.T,y,M)\n",
    "\n",
    "# plot resulting fit\n",
    "fig = plt.figure(facecolor = 'white',figsize = (4,4))\n",
    "plot_points(X,y)\n",
    "plot_separator(b,w,c,V,X,y)\n",
    "plt.show()"
   ]
  }
 ],
 "metadata": {
  "anaconda-cloud": {},
  "kernelspec": {
   "display_name": "Python [conda root]",
   "language": "python",
   "name": "conda-root-py"
  },
  "language_info": {
   "codemirror_mode": {
    "name": "ipython",
    "version": 2
   },
   "file_extension": ".py",
   "mimetype": "text/x-python",
   "name": "python",
   "nbconvert_exporter": "python",
   "pygments_lexer": "ipython2",
   "version": "2.7.12"
  }
 },
 "nbformat": 4,
 "nbformat_minor": 1
}
