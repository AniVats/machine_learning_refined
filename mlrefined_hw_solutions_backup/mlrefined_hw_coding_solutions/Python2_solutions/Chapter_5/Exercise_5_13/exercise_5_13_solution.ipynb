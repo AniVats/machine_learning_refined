{
 "cells": [
  {
   "cell_type": "code",
   "execution_count": 1,
   "metadata": {
    "collapsed": true
   },
   "outputs": [],
   "source": [
    "# This file is associated with the book\n",
    "# \"Machine Learning Refined\", Cambridge University Press, 2016.\n",
    "# by Jeremy Watt, Reza Borhani, and Aggelos Katsaggelos.\n",
    "\n",
    "import numpy as np\n",
    "import numpy.matlib\n",
    "import matplotlib.pyplot as plt\n",
    "from __future__ import division"
   ]
  },
  {
   "cell_type": "markdown",
   "metadata": {},
   "source": [
    "A simple data loading function."
   ]
  },
  {
   "cell_type": "code",
   "execution_count": 2,
   "metadata": {
    "collapsed": true
   },
   "outputs": [],
   "source": [
    "# load in data\n",
    "def load_data(csvname):\n",
    "    data = np.array(np.genfromtxt(csvname, delimiter=','))\n",
    "    x = np.reshape(data[:,0],(np.size(data[:,0]),1))\n",
    "    y = np.reshape(data[:,1],(np.size(data[:,1]),1))\n",
    "    return x,y"
   ]
  },
  {
   "cell_type": "markdown",
   "metadata": {},
   "source": [
    "A function for splitting the data into k folds."
   ]
  },
  {
   "cell_type": "code",
   "execution_count": 3,
   "metadata": {
    "collapsed": true
   },
   "outputs": [],
   "source": [
    "# split the dataset into k folds\n",
    "def split_data(x,y,k):\n",
    "    # split data into k equal (as possible) sized sets\n",
    "    L = np.size(y)\n",
    "    order = np.random.permutation(L)\n",
    "    c = np.ones((L,1))\n",
    "    L = np.round((1/k)*L)\n",
    "    for s in np.arange(0,k-2):\n",
    "        c[order[s*L:(s+1)*L]] = s + 2\n",
    "    c[order[(k-1)*L:]] = k\n",
    "    return c"
   ]
  },
  {
   "cell_type": "markdown",
   "metadata": {},
   "source": [
    "Functions for building polynomial and Fourier features."
   ]
  },
  {
   "cell_type": "code",
   "execution_count": 4,
   "metadata": {
    "collapsed": true
   },
   "outputs": [],
   "source": [
    "### feature transformation functions\n",
    "# transform input features to poly features\n",
    "def build_poly(x,D):\n",
    "    F = []\n",
    "    for m in np.arange(1,D+1):\n",
    "        F.append(x**m)\n",
    "\n",
    "    temp1 = np.reshape(F,(D,np.shape(x)[0])).T\n",
    "    temp2 = np.concatenate((np.ones((np.shape(temp1)[0],1)),temp1),1)\n",
    "    F = temp2\n",
    "    return F\n",
    "\n",
    "# takes fourier features of the input \n",
    "def build_fourier(x,D):\n",
    "    F = []\n",
    "    for m in np.arange(1,D+1):\n",
    "        F.append(np.cos(2*np.pi*m*x))\n",
    "        F.append(np.sin(2*np.pi*m*x))\n",
    "\n",
    "    temp1 = np.reshape(F,(2*D,np.shape(x)[0])).T\n",
    "    temp2 = np.concatenate((np.ones((np.shape(temp1)[0],1)),temp1),1)\n",
    "    F = temp2\n",
    "    return F"
   ]
  },
  {
   "cell_type": "markdown",
   "metadata": {},
   "source": [
    "Here we need a gradient descent function for the neural network feature set.  For both poly and Fourier bases, fitting is done via solving each associated linear system - just a few lines of code - and so individual functions for these are not required."
   ]
  },
  {
   "cell_type": "code",
   "execution_count": 5,
   "metadata": {
    "collapsed": true
   },
   "outputs": [],
   "source": [
    "# gradient descent for single layer tanh nn \n",
    "def tanh_grad_descent(x,y,M):\n",
    "    # initializations\n",
    "    P = np.size(x)\n",
    "    b = M*np.random.randn()\n",
    "    w = M*np.random.randn(M,1)\n",
    "    c = M*np.random.randn(M,1)\n",
    "    v = M*np.random.randn(M,1)\n",
    "    l_P = np.ones((P,1))\n",
    "\n",
    "    # stoppers + step length\n",
    "    max_its = 10000\n",
    "    k = 1\n",
    "    alpha = 1e-4\n",
    "\n",
    "    # main loop \n",
    "    for k in range(max_its):\n",
    "        # update gradients\n",
    "        q = np.zeros((P,1))\n",
    "        for p in np.arange(0,P):\n",
    "            q[p] = b + np.dot(w.T,np.tanh(c + v*x[p])) - y[p]\n",
    "\n",
    "        grad_b = np.dot(l_P.T,q)\n",
    "        grad_w = np.zeros((M,1))\n",
    "        grad_c = np.zeros((M,1))\n",
    "        grad_v = np.zeros((M,1))\n",
    "        for m in np.arange(0,M):\n",
    "            t = np.tanh(c[m] + x*v[m])\n",
    "            s = (1/np.cosh(c[m] + x*v[m]))**2\n",
    "            grad_w[m] = 2*np.dot(l_P.T,(q*t))\n",
    "            grad_c[m] = 2*np.dot(l_P.T,(q*s)*w[m])\n",
    "            grad_v[m] = 2*np.dot(l_P.T,(q*x*s)*w[m])\n",
    "\n",
    "        # take gradient steps\n",
    "        b = b - alpha*grad_b\n",
    "        w = w - alpha*grad_w\n",
    "        c = c - alpha*grad_c\n",
    "        v = v - alpha*grad_v\n",
    "\n",
    "        # update stopper and container\n",
    "        k = k + 1\n",
    "\n",
    "    return b, w, c, v"
   ]
  },
  {
   "cell_type": "markdown",
   "metadata": {},
   "source": [
    "Cross-validatino functions for each of the feature types."
   ]
  },
  {
   "cell_type": "code",
   "execution_count": 6,
   "metadata": {
    "collapsed": false
   },
   "outputs": [],
   "source": [
    "# cross-validate polys\n",
    "def cross_validate_poly(x,y,c,poly_degs,k):\n",
    "\n",
    "    # solve for weights and collect test errors\n",
    "    test_errors = []\n",
    "    for i in np.arange(0,np.size(poly_degs)):\n",
    "        # generate features\n",
    "        deg = poly_degs[i]\n",
    "        F = build_poly(x,deg)\n",
    "\n",
    "        # compute testing errors\n",
    "        test_resids = []\n",
    "        for j in np.arange(1,k+1):\n",
    "            F_1 = F[np.nonzero(c != j)[0],:]\n",
    "            y_1 = y[np.nonzero(c != j)[0]]\n",
    "            F_2 = F[np.nonzero(c == j)[0],:]\n",
    "            y_2 = y[np.nonzero(c == j)[0]]\n",
    "\n",
    "            temp = np.linalg.pinv(np.dot(F_1.T,F_1))\n",
    "            w = np.dot(np.dot(temp,F_1.T),y_1)\n",
    "\n",
    "            resid = np.linalg.norm(np.dot(F_2,w) - y_2)/np.size(y_2)\n",
    "            test_resids.append(resid)\n",
    "\n",
    "        test_errors.append(test_resids)\n",
    "\n",
    "    # find best degree\n",
    "    arg_min = np.argmin(np.sum(test_errors,1))\n",
    "    deg = poly_degs[arg_min]\n",
    "    return deg\n",
    "\n",
    "# cross-validate fourier\n",
    "def cross_validate_fourier(x,y,c,fourier_degs,k):\n",
    "\n",
    "    # solve for weights and collect test errors\n",
    "    test_errors = []\n",
    "    for i in np.arange(0,np.size(fourier_degs)):\n",
    "        # generate features\n",
    "        deg = fourier_degs[i]\n",
    "        F = build_fourier(x,deg)\n",
    "\n",
    "        # compute testing errors\n",
    "        test_resids = []\n",
    "        for j in np.arange(1,k+1):\n",
    "            F_1 = F[np.nonzero(c != j)[0],:]\n",
    "            y_1 = y[np.nonzero(c != j)[0]]\n",
    "            F_2 = F[np.nonzero(c == j)[0],:]\n",
    "            y_2 = y[np.nonzero(c == j)[0]]\n",
    "\n",
    "            temp = np.linalg.pinv(np.dot(F_1.T,F_1))\n",
    "            w = np.dot(np.dot(temp,F_1.T),y_1)\n",
    "\n",
    "            resid = np.linalg.norm(np.dot(F_2,w) - y_2)/np.size(y_2)\n",
    "            test_resids.append(resid)\n",
    "\n",
    "        test_errors.append(test_resids)\n",
    "\n",
    "    # find best degree\n",
    "    arg_min = np.argmin(np.sum(test_errors,1))\n",
    "    deg = fourier_degs[arg_min]\n",
    "    return deg\n",
    "\n",
    "# cross-validate the tanh neural network\n",
    "def cross_validate_tanh(x,y,split,tanh_degs,k):\n",
    "\n",
    "    # solve for weights and collect test errors\n",
    "    test_errors = []\n",
    "    for i in np.arange(0,np.size(tanh_degs)):\n",
    "        # generate features\n",
    "        deg = tanh_degs[i]\n",
    "\n",
    "        # compute testing errors\n",
    "        test_resids = []\n",
    "        for j in np.arange(1,k+1):\n",
    "            x_1 = x[np.nonzero(split != j)[0]]\n",
    "            y_1 = y[np.nonzero(split != j)[0]]\n",
    "            x_2 = x[np.nonzero(split == j)[0]]\n",
    "            y_2 = y[np.nonzero(split == j)[0]]\n",
    "\n",
    "            b,w,c,v = tanh_grad_descent(x_1,y_1,deg)\n",
    "            M = np.size(c)\n",
    "            t = b\n",
    "            for m in np.arange(0,M):\n",
    "                t = t + w[m]*np.tanh(c[m] + v[m]*x_2)\n",
    "\n",
    "            resid = np.linalg.norm(t - y_2)/np.size(y_2)\n",
    "            test_resids.append(resid)\n",
    "\n",
    "        test_errors.append(test_resids)\n",
    "\n",
    "    # find best degree\n",
    "    arg_min = np.argmin(np.sum(test_errors,1))\n",
    "    deg = tanh_degs[arg_min]\n",
    "    return deg"
   ]
  },
  {
   "cell_type": "markdown",
   "metadata": {},
   "source": [
    "Up next - plotting functions to plot polynomial, Fourier, and neural network fits to the data."
   ]
  },
  {
   "cell_type": "code",
   "execution_count": 7,
   "metadata": {
    "collapsed": true
   },
   "outputs": [],
   "source": [
    "# plot the poly fit to the data\n",
    "def plot_poly(x,y,deg,k):\n",
    "    # calculate weights\n",
    "    X = build_poly(x,deg)\n",
    "    temp = np.linalg.pinv(np.dot(X.T,X))\n",
    "    w = np.dot(np.dot(temp,X.T),y)\n",
    "\n",
    "    # output model\n",
    "    in_put = np.reshape(np.arange(0,1,.01),(100,1))\n",
    "    out_put = np.zeros(np.shape(in_put))\n",
    "    for n in np.arange(0,deg+1):\n",
    "        out_put = out_put + w[n]*(in_put**n)\n",
    "\n",
    "    # plot\n",
    "    plt.scatter(x,y,s=40,color = 'k')\n",
    "    plt.plot(in_put,out_put,'b',linewidth=2)\n",
    "\n",
    "    # clean up plot\n",
    "    plt.xlim(0,1)\n",
    "    plt.ylim(-1.4,1.4)\n",
    "    title = 'k = ' + str(k) + ', deg = ' + str(deg)\n",
    "    plt.title(title)\n",
    "\n",
    "# plot the fourier fit to the data\n",
    "def plot_fourier(x,y,deg,k):\n",
    "    # calculate weights\n",
    "    X = build_fourier(x,deg)\n",
    "    temp = np.linalg.pinv(np.dot(X.T,X))\n",
    "    w = np.dot(np.dot(temp,X.T),y)\n",
    "\n",
    "    # output model\n",
    "    period = 1\n",
    "    in_put = np.reshape(np.arange(0,1,.01),(100,1))\n",
    "    out_put = w[0]*np.ones(np.shape(in_put))\n",
    "    for n in np.arange(1,deg+1):\n",
    "        out_put = out_put + w[2*n-1]*np.cos((1/period)*2*np.pi*n*in_put)\n",
    "        out_put = out_put + w[2*n]*np.sin((1/period)*2*np.pi*n*in_put)\n",
    "\n",
    "    # plot\n",
    "    plt.scatter(x,y,s=40,color = 'k')\n",
    "    plt.plot(in_put,out_put,'r',linewidth=2)\n",
    "\n",
    "    # clean up plot\n",
    "    plt.xlim(0,1)\n",
    "    plt.ylim(-1.4,1.4)\n",
    "    title = 'k = ' + str(k) + ', deg = ' + str(deg)\n",
    "    plt.title(title)\n",
    "\n",
    "# plot the tanh fit to the data\n",
    "def plot_tanh(x,y,deg,k):\n",
    "    # calculate weights\n",
    "    colors = ['m','c']\n",
    "    num_inits = 2\n",
    "    for foo in np.arange(0,num_inits):\n",
    "        b, w, c, v = tanh_grad_descent(x,y,deg)\n",
    "\n",
    "        # plot resulting fit\n",
    "        plot_approx(b,w,c,v,colors[foo])\n",
    "\n",
    "    # plot\n",
    "    plt.scatter(x,y,s=40,color = 'k')\n",
    "\n",
    "    # clean up plot\n",
    "    plt.xlim(0,1)\n",
    "    plt.ylim(-1.4,1.4)\n",
    "    title = 'k = ' + str(k) + ', deg = ' + str(deg)\n",
    "    plt.title(title)\n",
    "\n",
    "# plot tanh approximation \n",
    "def plot_approx(b,w,c,v,color):\n",
    "    M = np.size(c)\n",
    "    s = np.arange(0,1,.01)\n",
    "    t = b\n",
    "    for m in np.arange(0,M):\n",
    "        t = t + w[m]*np.tanh(c[m] + v[m]*s)\n",
    "\n",
    "    s = np.reshape(s,np.shape(t))\n",
    "    plt.plot(s[0],t[0], color = color, linewidth=2)"
   ]
  },
  {
   "cell_type": "markdown",
   "metadata": {},
   "source": [
    "Now that everything is defined we can run all."
   ]
  },
  {
   "cell_type": "code",
   "execution_count": 11,
   "metadata": {
    "collapsed": false
   },
   "outputs": [
    {
     "name": "stderr",
     "output_type": "stream",
     "text": [
      "/Users/Nurgetson/anaconda2/lib/python2.7/site-packages/ipykernel/__main__.py:9: VisibleDeprecationWarning: using a non-integer number instead of an integer will result in an error in the future\n",
      "/Users/Nurgetson/anaconda2/lib/python2.7/site-packages/ipykernel/__main__.py:10: VisibleDeprecationWarning: using a non-integer number instead of an integer will result in an error in the future\n"
     ]
    },
    {
     "data": {
      "image/png": "[encoded data removed]",
      "text/plain": [
       "<matplotlib.figure.Figure at 0x1114bb890>"
      ]
     },
     "metadata": {},
     "output_type": "display_data"
    }
   ],
   "source": [
    "# load in dataset\n",
    "x,y = load_data('noisy_sin_samples.csv')\n",
    "\n",
    "# parameters to play with\n",
    "k = 3    # number of folds to use\n",
    "\n",
    "# split points into k equal sized sets\n",
    "c = split_data(x,y,k)\n",
    "\n",
    "# prime a figure for plotting each feature type fit\n",
    "fig = plt.figure(figsize = (8,4))\n",
    "x_true = np.reshape(np.arange(0,1,.01),(100,1))\n",
    "y_true = np.sin(2*np.pi*x_true)\n",
    "    \n",
    "###################################################\n",
    "# do k-fold cross-validation using polynomial basis\n",
    "poly_degs = np.arange(1,11)           # range of poly models to compare\n",
    "deg = cross_validate_poly(x,y,c,poly_degs,k)\n",
    "\n",
    "# plot the results\n",
    "plt.subplot(1,3,1)\n",
    "plot_poly(x,y,deg,k)\n",
    "plt.plot(x_true[0], y_true[0], 'k.', linewidth=1.5)\n",
    "plt.axis('off')\n",
    "\n",
    "###################################################\n",
    "# do k-fold cross-validation using fourier basis\n",
    "fourier_degs = np.arange(1,11)           # range of fourier models to compare\n",
    "deg = cross_validate_fourier(x,y,c,fourier_degs,k)\n",
    "\n",
    "# plot the results\n",
    "plt.subplot(1,3,2)\n",
    "plot_fourier(x,y,deg,k)\n",
    "plt.plot(x_true[0], y_true[0], 'k.', linewidth=1.5)\n",
    "plt.axis('off')\n",
    "\n",
    "###################################################\n",
    "# do k-fold cross-validation using tanh basis\n",
    "tanh_degs = np.arange(1,10)           # range of NN models to compare\n",
    "deg = cross_validate_tanh(x,y,c,tanh_degs,k)\n",
    "\n",
    "# plot the results\n",
    "plt.subplot(1,3,3)\n",
    "plot_tanh(x,y,deg,k)\n",
    "plt.plot(x_true[0], y_true[0], 'k.', linewidth=1.5)\n",
    "plt.axis('off')\n",
    "plt.show()"
   ]
  }
 ],
 "metadata": {
  "anaconda-cloud": {},
  "kernelspec": {
   "display_name": "Python [conda root]",
   "language": "python",
   "name": "conda-root-py"
  },
  "language_info": {
   "codemirror_mode": {
    "name": "ipython",
    "version": 2
   },
   "file_extension": ".py",
   "mimetype": "text/x-python",
   "name": "python",
   "nbconvert_exporter": "python",
   "pygments_lexer": "ipython2",
   "version": "2.7.12"
  }
 },
 "nbformat": 4,
 "nbformat_minor": 1
}
