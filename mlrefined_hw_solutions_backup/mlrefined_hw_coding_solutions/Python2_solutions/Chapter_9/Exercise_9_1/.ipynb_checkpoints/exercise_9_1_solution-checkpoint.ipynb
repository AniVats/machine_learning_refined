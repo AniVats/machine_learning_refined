{
 "cells": [
  {
   "cell_type": "code",
   "execution_count": 2,
   "metadata": {
    "collapsed": false
   },
   "outputs": [],
   "source": [
    "# This file is associated with the book\n",
    "# \"Machine Learning Refined\", Cambridge University Press, 2016.\n",
    "# by Jeremy Watt, Reza Borhani, and Aggelos Katsaggelos.\n",
    "\n",
    "import numpy as np\n",
    "import numpy.matlib\n",
    "import matplotlib.pyplot as plt\n",
    "from __future__ import division\n",
    "\n",
    "def your_K_means(X, K, C0):\n",
    "\n",
    "    C = C0              # initial centroid locations\n",
    "    N = np.shape(X)[1]  # number of points\n",
    "    K = np.shape(C)[1]  # number of clusters\n",
    "    t = 1               # counter\n",
    "    d = [1]             # container for centroid movement\n",
    "    eps = 1e-6          # stopping condition\n",
    "\n",
    "    while (d[-1] > eps):\n",
    "\n",
    "        W = np.zeros((K,N))\n",
    "        for n in np.arange(0,N):\n",
    "            diff = []\n",
    "            for k in np.arange(0,K):\n",
    "                diff.append(np.linalg.norm((X[:,n] - C[2*t-2:2*t,k])))\n",
    "            W[np.argmin(diff),n] = 1\n",
    "\n",
    "        AVG = np.zeros((2,K))\n",
    "        for k in np.arange(0,K):\n",
    "            ind = np.nonzero(W[k,:]==1)[0]\n",
    "            AVG[:,k] = np.mean(X[:,ind],1)\n",
    "\n",
    "        C = np.concatenate((C,AVG),0)\n",
    "        d.append(np.linalg.norm(C[2*t-2:2*t,:]-C[2*t:2*t+2,:]))\n",
    "        t = t+1\n",
    "\n",
    "    C = AVG\n",
    "\n",
    "    return C, W\n",
    "\n",
    "def plot_results(X, C, W, C0):\n",
    "\n",
    "    K = np.shape(C)[1]\n",
    "\n",
    "    # plot original data\n",
    "    fig = plt.figure(facecolor = 'white')\n",
    "    ax1 = fig.add_subplot(121)\n",
    "    plt.scatter(X[0,:],X[1,:], s = 50, facecolors = 'k')\n",
    "    plt.title('original data')\n",
    "    ax1.set_xlim(-.55, .55)\n",
    "    ax1.set_ylim(-.55, .55)\n",
    "    ax1.set_aspect('equal')\n",
    "\n",
    "    plt.scatter(C0[0,0],C0[1,0],s = 100, marker=(5, 2), facecolors = 'b')\n",
    "    plt.scatter(C0[0,1],C0[1,1],s = 100, marker=(5, 2), facecolors = 'r')\n",
    "\n",
    "    # plot clustered data\n",
    "    ax2 = fig.add_subplot(122)\n",
    "    colors = ['b','r']\n",
    "\n",
    "    for k in np.arange(0,K):\n",
    "        ind = np.nonzero(W[k][:]==1)[0]\n",
    "        plt.scatter(X[0,ind],X[1,ind],s = 50, facecolors = colors[k])\n",
    "        plt.scatter(C[0,k],C[1,k], s = 100, marker=(5, 2), facecolors = colors[k])\n",
    "\n",
    "    plt.title('clustered data')\n",
    "    ax2.set_xlim(-.55, .55)\n",
    "    ax2.set_ylim(-.55, .55)\n",
    "    ax2.set_aspect('equal')"
   ]
  },
  {
   "cell_type": "markdown",
   "metadata": {},
   "source": [
    "With everything defined lets run all."
   ]
  },
  {
   "cell_type": "code",
   "execution_count": 3,
   "metadata": {
    "collapsed": false
   },
   "outputs": [
    {
     "data": {
      "image/png": "[encoded data removed]",
      "text/plain": [
       "<matplotlib.figure.Figure at 0x10cbf4390>"
      ]
     },
     "metadata": {},
     "output_type": "display_data"
    }
   ],
   "source": [
    "# load data\n",
    "X = np.array(np.genfromtxt('Kmeans_demo_data.csv', delimiter=','))\n",
    "\n",
    "C0 = np.array([[0,0],[0,.5]])   # initial centroid locations\n",
    "\n",
    "# run K-means\n",
    "K = np.shape(C0)[1]\n",
    "\n",
    "C, W = your_K_means(X, K, C0)\n",
    "\n",
    "# plot results\n",
    "plot_results(X, C, W, C0)\n",
    "plt.show()"
   ]
  }
 ],
 "metadata": {
  "kernelspec": {
   "display_name": "Python [conda root]",
   "language": "python",
   "name": "conda-root-py"
  },
  "language_info": {
   "codemirror_mode": {
    "name": "ipython",
    "version": 2
   },
   "file_extension": ".py",
   "mimetype": "text/x-python",
   "name": "python",
   "nbconvert_exporter": "python",
   "pygments_lexer": "ipython2",
   "version": "2.7.12"
  }
 },
 "nbformat": 4,
 "nbformat_minor": 1
}
