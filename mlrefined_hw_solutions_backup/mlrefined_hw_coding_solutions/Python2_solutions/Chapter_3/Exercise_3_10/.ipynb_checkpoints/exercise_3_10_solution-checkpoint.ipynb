{
 "cells": [
  {
   "cell_type": "code",
   "execution_count": 2,
   "metadata": {
    "collapsed": false
   },
   "outputs": [
    {
     "data": {
      "text/plain": [
       "[<matplotlib.lines.Line2D at 0x10f076c50>]"
      ]
     },
     "execution_count": 2,
     "metadata": {},
     "output_type": "execute_result"
    },
    {
     "data": {
      "image/png": "[encoded data removed]",
      "text/plain": [
       "<matplotlib.figure.Figure at 0x10f076b50>"
      ]
     },
     "metadata": {},
     "output_type": "display_data"
    }
   ],
   "source": [
    "# This file is associated with the book\n",
    "# \"Machine Learning Refined\", Cambridge University Press, 2016.\n",
    "# by Jeremy Watt, Reza Borhani, and Aggelos Katsaggelos.\n",
    "\n",
    "import numpy as np\n",
    "import matplotlib.pyplot as plt\n",
    "import csv\n",
    "\n",
    "# import the dataset\n",
    "reader = csv.reader(open(\"bacteria_data.csv\", \"rb\"), delimiter=\",\")\n",
    "d = list(reader)\n",
    "\n",
    "# import data and reshape appropriately\n",
    "data = np.array(d).astype(\"float\")\n",
    "x = data[:,0]\n",
    "x.shape = (len(x),1)\n",
    "y = data[:,1]\n",
    "y.shape = (len(y),1)\n",
    "\n",
    "# transform input and ouptut\n",
    "y_transformed = [np.log(s/(1-s)) for s in y]\n",
    "\n",
    "# pad with ones -- > to setup linear system\n",
    "o = np.ones((len(x),1))\n",
    "x_new = np.concatenate((o,x),axis = 1)\n",
    "\n",
    "# # set up linear system to solve for weights\n",
    "A = 0\n",
    "b = 0\n",
    "for i in range(len(x)):\n",
    "    A += np.outer(x_new[i,:],x_new[i,:].T)\n",
    "    b += y_transformed[i]*x_new[i,:].T\n",
    "\n",
    "# solve linear system for weights\n",
    "w = np.linalg.solve(A,b)\n",
    "\n",
    "# plot data and fit\n",
    "plt.scatter(x,y,c = 'k')\n",
    "s = np.linspace(min(x),max(x))\n",
    "t = 1/(1 + np.exp(- (w[0] + w[1]*s)))\n",
    "plt.plot(s,t)"
   ]
  }
 ],
 "metadata": {
  "anaconda-cloud": {},
  "kernelspec": {
   "display_name": "Python [conda root]",
   "language": "python",
   "name": "conda-root-py"
  },
  "language_info": {
   "codemirror_mode": {
    "name": "ipython",
    "version": 2
   },
   "file_extension": ".py",
   "mimetype": "text/x-python",
   "name": "python",
   "nbconvert_exporter": "python",
   "pygments_lexer": "ipython2",
   "version": "2.7.12"
  }
 },
 "nbformat": 4,
 "nbformat_minor": 1
}
