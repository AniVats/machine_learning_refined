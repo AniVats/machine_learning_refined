{
 "cells": [
  {
   "cell_type": "code",
   "execution_count": 1,
   "metadata": {
    "collapsed": false
   },
   "outputs": [],
   "source": [
    "# This file is associated with the book\n",
    "# \"Machine Learning Refined\", Cambridge University Press, 2016.\n",
    "# by Jeremy Watt, Reza Borhani, and Aggelos Katsaggelos.\n",
    "\n",
    "import numpy as np\n",
    "import matplotlib.pyplot as plt\n",
    "import csv\n",
    "import pandas as pd"
   ]
  },
  {
   "cell_type": "markdown",
   "metadata": {},
   "source": [
    "A simple function for loading data."
   ]
  },
  {
   "cell_type": "code",
   "execution_count": 2,
   "metadata": {
    "collapsed": true
   },
   "outputs": [],
   "source": [
    "# import training data \n",
    "def load_data(csvname):\n",
    "    # load in data\n",
    "    data = np.asarray(pd.read_csv(csvname))\n",
    "\n",
    "    # import data and reshape appropriately\n",
    "    X = data[:,0:-1]\n",
    "    y = data[:,-1]\n",
    "    y.shape = (len(y),1)\n",
    "    \n",
    "    # pad data with ones for more compact gradient computation\n",
    "    o = np.ones((np.shape(X)[0],1))\n",
    "    X = np.concatenate((o,X),axis = 1)\n",
    "    X = X.T\n",
    "    \n",
    "    return X,y"
   ]
  },
  {
   "cell_type": "markdown",
   "metadata": {},
   "source": [
    "All of the functionality required for performing Newton's method on the squared margin cost function."
   ]
  },
  {
   "cell_type": "code",
   "execution_count": 3,
   "metadata": {
    "collapsed": true
   },
   "outputs": [],
   "source": [
    "# function for computing gradient and Hessian for squared margin cost Newton's method\n",
    "def squared_margin_grad_hess(X,y,w):\n",
    "    hess = 0\n",
    "    grad = 0\n",
    "    for p in range(0,len(y)):\n",
    "        # precompute        \n",
    "        x_p = X[:,p]\n",
    "        y_p = y[p]\n",
    "        \n",
    "        # update grad and hessian\n",
    "        grad+= -2*max(0,1 - y_p*np.dot(x_p.T,w))*y_p*x_p\n",
    "        \n",
    "        if 1 - y_p*np.dot(x_p.T,w) > 0:\n",
    "            hess+= 2*np.outer(x_p,x_p)\n",
    "        \n",
    "    grad.shape = (len(grad),1)\n",
    "    return grad,hess\n",
    "\n",
    "# run newton's method\n",
    "def squared_margin_newtons_method(X,y,w):\n",
    "    # begin newton's method loop    \n",
    "    max_its = 20\n",
    "    misclass_history = []\n",
    "    for k in range(max_its):\n",
    "        # compute gradient and Hessian\n",
    "        grad,hess = squared_margin_grad_hess(X,y,w)\n",
    "\n",
    "        # take Newton step\n",
    "        hess = hess + 10**-3*np.diag(np.ones((np.shape(X)[0])))\n",
    "        temp = np.dot(hess,w) - grad        \n",
    "        w = np.dot(np.linalg.pinv(hess),temp)\n",
    "\n",
    "        # update history container\n",
    "        cost = count_misclasses(X,y,w)\n",
    "        misclass_history.append(cost)\n",
    "    return misclass_history\n",
    "\n",
    "# function for counting the number of misclassifications\n",
    "def count_misclasses(X,y,w):\n",
    "    y_pred = np.sign(np.dot(X.T,w))\n",
    "    num_misclassed = len(y) - len([i for i, j in zip(y, y_pred) if i == j])\n",
    "    return num_misclassed"
   ]
  },
  {
   "cell_type": "markdown",
   "metadata": {},
   "source": [
    "With everything setup its time to run all."
   ]
  },
  {
   "cell_type": "code",
   "execution_count": 4,
   "metadata": {
    "collapsed": false
   },
   "outputs": [
    {
     "data": {
      "image/png": "[encoded data removed]",
      "text/plain": [
       "<matplotlib.figure.Figure at 0x10c6f6d10>"
      ]
     },
     "metadata": {},
     "output_type": "display_data"
    }
   ],
   "source": [
    "# load data\n",
    "X,y = load_data('raw_face_data.csv')\n",
    "\n",
    "# run on pixel-based dataset\n",
    "w0 = np.zeros((np.shape(X)[0],1))\n",
    "history_1 = squared_margin_newtons_method(X,y,w0)\n",
    "\n",
    "# run on hog-based data\n",
    "X,y = load_data('feat_face_data.csv')\n",
    "w0 = np.zeros((np.shape(X)[0],1))\n",
    "history_2 = squared_margin_newtons_method(X,y,w0)\n",
    "\n",
    "# plot results\n",
    "plt.plot(history_1,color = 'm')\n",
    "plt.plot(history_2,'k')\n",
    "\n",
    "# clean up plot\n",
    "plt.ylim([min(min(history_1),min(history_2)) - 1,max(max(history_1),max(history_2)) + 1])\n",
    "plt.xlabel('iteration of Newtons method')\n",
    "plt.ylabel('number of misclassifications')\n",
    "plt.legend(['pixel-based data','hog-based data'])\n",
    "plt.show()"
   ]
  }
 ],
 "metadata": {
  "anaconda-cloud": {},
  "kernelspec": {
   "display_name": "Python [conda root]",
   "language": "python",
   "name": "conda-root-py"
  },
  "language_info": {
   "codemirror_mode": {
    "name": "ipython",
    "version": 2
   },
   "file_extension": ".py",
   "mimetype": "text/x-python",
   "name": "python",
   "nbconvert_exporter": "python",
   "pygments_lexer": "ipython2",
   "version": "2.7.12"
  }
 },
 "nbformat": 4,
 "nbformat_minor": 1
}
