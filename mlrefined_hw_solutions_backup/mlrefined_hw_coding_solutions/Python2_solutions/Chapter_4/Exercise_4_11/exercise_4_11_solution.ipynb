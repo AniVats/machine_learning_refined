{
 "cells": [
  {
   "cell_type": "code",
   "execution_count": 5,
   "metadata": {
    "collapsed": false
   },
   "outputs": [],
   "source": [
    "# This file is associated with the book\n",
    "# \"Machine Learning Refined\", Cambridge University Press, 2016.\n",
    "# by Jeremy Watt, Reza Borhani, and Aggelos Katsaggelos.\n",
    "\n",
    "import matplotlib.pyplot as plt\n",
    "import numpy as np"
   ]
  },
  {
   "cell_type": "markdown",
   "metadata": {},
   "source": [
    "A simple data loading function."
   ]
  },
  {
   "cell_type": "code",
   "execution_count": 6,
   "metadata": {
    "collapsed": true
   },
   "outputs": [],
   "source": [
    "# load the data\n",
    "def load_data():\n",
    "    # load data\n",
    "    data = np.matrix(np.genfromtxt('exp_vs_log_data.csv', delimiter=','))\n",
    "    X = np.asarray(data[:,0:2])\n",
    "    y = np.asarray(data[:,2])\n",
    "    y.shape = (np.size(y),1)\n",
    "    return X, y"
   ]
  },
  {
   "cell_type": "markdown",
   "metadata": {},
   "source": [
    "Gradient descent functions for both the softmax cost function and exponential cost."
   ]
  },
  {
   "cell_type": "code",
   "execution_count": 7,
   "metadata": {
    "collapsed": true
   },
   "outputs": [],
   "source": [
    "# run gradient descent for h1\n",
    "def gradient_descent_soft_cost(X,y,w,alpha):\n",
    "    # start gradient descent loop\n",
    "    H = np.dot(np.diag(y[:,0]),X.T)\n",
    "    max_its = 10000\n",
    "\n",
    "    for k in range(max_its):\n",
    "        # compute gradient\n",
    "        temp = 1/(1 + np.exp(np.dot(H,w)))\n",
    "        grad = - np.dot(H.T,temp)\n",
    "\n",
    "        # take gradient step\n",
    "        w = w - alpha*grad\n",
    "    return w\n",
    "\n",
    "# run gradient descent for h2\n",
    "def gradient_descent_exp_cost(X,y,w,alpha):\n",
    "    # start gradient descent loop\n",
    "    H = np.dot(np.diag(y[:,0]),X.T)\n",
    "    max_its = 10000\n",
    "\n",
    "    for k in range(max_its):\n",
    "        # compute gradient\n",
    "        temp = np.exp(np.dot(-H,w))\n",
    "        grad = - np.dot(H.T,temp)\n",
    "\n",
    "        # take gradient step\n",
    "        w = w - alpha*grad\n",
    "    return w"
   ]
  },
  {
   "cell_type": "markdown",
   "metadata": {},
   "source": [
    "Now - a plotting function to show the datapoints and learned separators."
   ]
  },
  {
   "cell_type": "code",
   "execution_count": 24,
   "metadata": {
    "collapsed": true
   },
   "outputs": [],
   "source": [
    "# plotting functions\n",
    "def plot_all(X,y,w,color,ax1):\n",
    "    # initialize figure, plot data, and dress up panels with axes labels etc.,\n",
    "\n",
    "    plt.xlabel('$x_1$',fontsize=20,labelpad = 20)\n",
    "    plt.ylabel('$x_2$',fontsize=20,rotation = 0,labelpad = 20)\n",
    "    s = np.argwhere(y == 1)\n",
    "    s = s[:,0]\n",
    "    plt.scatter(X[s,0],X[s,1], s = 30,color = (1, 0, 0.4))\n",
    "    s = np.argwhere(y == -1)\n",
    "    s = s[:,0]\n",
    "    plt.scatter(X[s,0],X[s,1],s = 30, color = (0, 0.4, 1))\n",
    "    plt.xlim(0.2,1)\n",
    "    plt.ylim(0.2,1)\n",
    "\n",
    "    # plot separator\n",
    "    r = np.linspace(0,1,150)\n",
    "    z = -w.item(0)/w.item(2) - w.item(1)/w.item(2)*r\n",
    "    plt.plot(r,z,color = color,linewidth = 2)\n",
    "    plt.axis('off')\n",
    "    plt.legend(['softmax cost', 'exponential cost'],loc='center left',bbox_to_anchor=(1, 0.5))"
   ]
  },
  {
   "cell_type": "markdown",
   "metadata": {
    "collapsed": true
   },
   "source": [
    "With everything defined we can now run all."
   ]
  },
  {
   "cell_type": "code",
   "execution_count": 26,
   "metadata": {
    "collapsed": false
   },
   "outputs": [
    {
     "data": {
      "image/png": "[encoded data removed]",
      "text/plain": [
       "<matplotlib.figure.Figure at 0x10feaa310>"
      ]
     },
     "metadata": {},
     "output_type": "display_data"
    }
   ],
   "source": [
    "# load data\n",
    "X,y = load_data()\n",
    "\n",
    "# use compact notation and initialize\n",
    "temp = np.shape(X)\n",
    "temp = np.ones((temp[0],1))\n",
    "X_tilde = np.concatenate((temp,X),1)\n",
    "X_tilde = X_tilde.T\n",
    "\n",
    "alpha = 10**(-2)\n",
    "w0 = np.random.randn(3,1)\n",
    "\n",
    "# run gradient descent for h1\n",
    "w1 = gradient_descent_soft_cost(X_tilde,y,w0,alpha)\n",
    "\n",
    "# run gradient descent for h1\n",
    "w2 = gradient_descent_exp_cost(X_tilde,y,w0,alpha)\n",
    "\n",
    "# plot everything\n",
    "fig = plt.figure(figsize = (5,5))\n",
    "plot_all(X,y,w1,'k',ax1)\n",
    "plot_all(X,y,w2,'m',ax1)\n",
    "plt.show()"
   ]
  }
 ],
 "metadata": {
  "anaconda-cloud": {},
  "kernelspec": {
   "display_name": "Python [conda root]",
   "language": "python",
   "name": "conda-root-py"
  },
  "language_info": {
   "codemirror_mode": {
    "name": "ipython",
    "version": 2
   },
   "file_extension": ".py",
   "mimetype": "text/x-python",
   "name": "python",
   "nbconvert_exporter": "python",
   "pygments_lexer": "ipython2",
   "version": "2.7.12"
  }
 },
 "nbformat": 4,
 "nbformat_minor": 1
}
