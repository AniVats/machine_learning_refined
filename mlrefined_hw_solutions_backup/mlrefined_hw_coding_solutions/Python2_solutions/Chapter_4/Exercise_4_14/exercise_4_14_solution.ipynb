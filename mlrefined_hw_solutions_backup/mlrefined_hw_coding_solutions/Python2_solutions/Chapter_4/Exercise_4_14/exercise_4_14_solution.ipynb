{
 "cells": [
  {
   "cell_type": "code",
   "execution_count": 19,
   "metadata": {
    "collapsed": false
   },
   "outputs": [],
   "source": [
    "# This file is associated with the book\n",
    "# \"Machine Learning Refined\", Cambridge University Press, 2016.\n",
    "# by Jeremy Watt, Reza Borhani, and Aggelos Katsaggelos.\n",
    "\n",
    "import numpy as np\n",
    "import matplotlib.pyplot as plt\n",
    "import pandas as pd"
   ]
  },
  {
   "cell_type": "markdown",
   "metadata": {},
   "source": [
    "A simple data loading function."
   ]
  },
  {
   "cell_type": "code",
   "execution_count": 20,
   "metadata": {
    "collapsed": true
   },
   "outputs": [],
   "source": [
    "# import training data \n",
    "def load_data(csvname):\n",
    "    # load in data\n",
    "    data = np.asarray(pd.read_csv(csvname))\n",
    "\n",
    "    # import data and reshape appropriately\n",
    "    X = data[:,0:-1]\n",
    "    y = data[:,-1]\n",
    "    y.shape = (len(y),1)\n",
    "    \n",
    "    # pad data with ones for more compact gradient computation\n",
    "    o = np.ones((np.shape(X)[0],1))\n",
    "    X = np.concatenate((o,X),axis = 1)\n",
    "    X = X.T\n",
    "    \n",
    "    return X,y"
   ]
  },
  {
   "cell_type": "markdown",
   "metadata": {},
   "source": [
    "Our one versus all main loop - where we loop through each two-class subproblem and learn its respective weights."
   ]
  },
  {
   "cell_type": "code",
   "execution_count": 21,
   "metadata": {
    "collapsed": true
   },
   "outputs": [],
   "source": [
    "# learn all C separators\n",
    "def learn_separators(X,y):\n",
    "    W = []\n",
    "    num_classes = np.size(np.unique(y))\n",
    "    for i in range(0,num_classes):\n",
    "        # prepare temporary C vs notC probem labels\n",
    "        y_temp = np.copy(y)\n",
    "        ind = np.argwhere(y_temp == (i+1))\n",
    "        ind = ind[:,0]\n",
    "        ind2 = np.argwhere(y_temp != (i+1))\n",
    "        ind2 = ind2[:,0]\n",
    "        y_temp[ind] = 1\n",
    "        y_temp[ind2] = -1\n",
    "        \n",
    "        # run descent algorithm to classify C vs notC problem\n",
    "        w0 = np.random.randn(np.shape(X)[0],1)\n",
    "        w = softmax_newtons_method(X,y_temp,w0)\n",
    "        W.append(w)\n",
    "    W = np.asarray(W)\n",
    "    W.shape = (np.shape(W)[0],np.shape(W)[1])\n",
    "    W = W.T\n",
    "    return W"
   ]
  },
  {
   "cell_type": "markdown",
   "metadata": {},
   "source": [
    "Up next - functionality for running Newton's method on the softmax cost function."
   ]
  },
  {
   "cell_type": "code",
   "execution_count": 22,
   "metadata": {
    "collapsed": true
   },
   "outputs": [],
   "source": [
    "# function for computing gradient and Hessian for Newton's method\n",
    "def softmax_grad_hess(X,y,w):\n",
    "    hess = 0\n",
    "    grad = 0\n",
    "    for p in range(0,len(y)):\n",
    "        # precompute\n",
    "        x_p = X[:,p]\n",
    "        y_p = y[p]\n",
    "        s = 1/(1 + my_exp(y_p*np.dot(x_p.T,w)))\n",
    "        g = s*(1-s)\n",
    "        \n",
    "        # update grad and hessian\n",
    "        grad+= -s*y_p*x_p\n",
    "        hess+= np.outer(x_p,x_p)*g\n",
    "        \n",
    "    grad.shape = (len(grad),1)\n",
    "    return grad,hess\n",
    "\n",
    "# run newton's method\n",
    "def softmax_newtons_method(X,y,w):\n",
    "    # begin newton's method loop\n",
    "    max_its = 20\n",
    "    \n",
    "    for k in range(max_its):\n",
    "        # compute gradient and Hessian\n",
    "        grad,hess = softmax_grad_hess(X,y,w)\n",
    "        \n",
    "        # take Newton step\n",
    "        temp = np.dot(hess,w) - grad\n",
    "        w = np.dot(np.linalg.pinv(hess),temp)\n",
    "    return w\n",
    "\n",
    "# avoid overflow when using exp - just cutoff after arguments get too large/small\n",
    "def my_exp(u):\n",
    "    s = np.argwhere(u > 100)\n",
    "    t = np.argwhere(u < -100)\n",
    "    u[s] = 0\n",
    "    u[t] = 0\n",
    "    u = np.exp(u)\n",
    "    u[t] = 1\n",
    "    return u\n",
    "\n",
    "# function for counting the number of misclassifications\n",
    "def count_misclasses(X,y,w):\n",
    "    y_pred = np.sign(np.dot(X.T,w))\n",
    "    num_misclassed = len(y) - len([i for i, j in zip(y, y_pred) if i == j])\n",
    "    return num_misclassed"
   ]
  },
  {
   "cell_type": "markdown",
   "metadata": {},
   "source": [
    "Plotting functinos to show the dataset and multiclass separator learned to the data."
   ]
  },
  {
   "cell_type": "code",
   "execution_count": 23,
   "metadata": {
    "collapsed": true
   },
   "outputs": [],
   "source": [
    "# plotting function for the data and individual separators\n",
    "def plot_data_and_subproblem_separators(X,y,W):\n",
    "    # initialize figure, plot data, and dress up panels with axes labels etc.\n",
    "    num_classes = np.size(np.unique(y))\n",
    "    color_opts = np.array([[1,0,0.4], [ 0, 0.4, 1],[0, 1, 0.5],[1, 0.7, 0.5],[0.7, 0.6, 0.5]])\n",
    "    f,axs = plt.subplots(1,num_classes + 1,facecolor = 'white',figsize = (10,2))\n",
    "\n",
    "    r = np.linspace(0,1,150)\n",
    "    for a in range(0,num_classes):\n",
    "        # color current class\n",
    "        axs[a].scatter(X[1,],X[2,], s = 30,color = '0.75')\n",
    "        s = np.argwhere(y == a+1)\n",
    "        s = s[:,0]\n",
    "        axs[a].scatter(X[1,s],X[2,s], s = 30,color = color_opts[a,:])\n",
    "        axs[num_classes].scatter(X[1,s],X[2,s], s = 30,color = color_opts[a,:])\n",
    "\n",
    "        # draw subproblem separator\n",
    "        z = -W[0,a]/W[2,a] - W[1,a]/W[2,a]*r\n",
    "        axs[a].plot(r,z,'-k',linewidth = 2,color = color_opts[a,:])\n",
    "\n",
    "        # dress panel correctly\n",
    "        axs[a].set_xlim(0,1)\n",
    "        axs[a].set_ylim(0,1)\n",
    "        axs[a].axis('off')\n",
    "    axs[num_classes].axis('off')\n",
    "\n",
    "    return axs\n",
    "\n",
    "# fuse individual subproblem separators into one joint rule\n",
    "def plot_joint_separator(W,axs,num_classes):\n",
    "    r = np.linspace(0,1,300)\n",
    "    s,t = np.meshgrid(r,r)\n",
    "    s = np.reshape(s,(np.size(s),1))\n",
    "    t = np.reshape(t,(np.size(t),1))\n",
    "    h = np.concatenate((np.ones((np.size(s),1)),s,t),1)\n",
    "    f = np.dot(W.T,h.T)\n",
    "    z = np.argmax(f,0)\n",
    "    f.shape = (np.size(f),1)\n",
    "    s.shape = (np.size(r),np.size(r))\n",
    "    t.shape = (np.size(r),np.size(r))\n",
    "    z.shape = (np.size(r),np.size(r))\n",
    "\n",
    "    for i in range(0,num_classes + 1):\n",
    "        axs[num_classes].contour(s,t,z,num_classes-1,colors = 'k',linewidths = 2.25)"
   ]
  },
  {
   "cell_type": "markdown",
   "metadata": {},
   "source": [
    "With everything defined lets run all."
   ]
  },
  {
   "cell_type": "code",
   "execution_count": 24,
   "metadata": {
    "collapsed": false
   },
   "outputs": [
    {
     "data": {
      "image/png": "[encoded data removed]",
      "text/plain": [
       "<matplotlib.figure.Figure at 0x1188a3c50>"
      ]
     },
     "metadata": {},
     "output_type": "display_data"
    }
   ],
   "source": [
    "# load the data\n",
    "X,y = load_data('four_class_data.csv')\n",
    "\n",
    "# learn all C vs notC separators\n",
    "W = learn_separators(X,y)\n",
    "\n",
    "# plot data and each subproblem 2-class separator\n",
    "axs = plot_data_and_subproblem_separators(X,y,W)\n",
    "\n",
    "# plot fused separator\n",
    "plot_joint_separator(W,axs,np.size(np.unique(y)))\n",
    "\n",
    "plt.show()"
   ]
  }
 ],
 "metadata": {
  "anaconda-cloud": {},
  "kernelspec": {
   "display_name": "Python [conda root]",
   "language": "python",
   "name": "conda-root-py"
  },
  "language_info": {
   "codemirror_mode": {
    "name": "ipython",
    "version": 2
   },
   "file_extension": ".py",
   "mimetype": "text/x-python",
   "name": "python",
   "nbconvert_exporter": "python",
   "pygments_lexer": "ipython2",
   "version": "2.7.12"
  }
 },
 "nbformat": 4,
 "nbformat_minor": 1
}
