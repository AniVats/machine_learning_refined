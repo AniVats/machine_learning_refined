{
 "cells": [
  {
   "cell_type": "code",
   "execution_count": 3,
   "metadata": {
    "collapsed": true
   },
   "outputs": [],
   "source": [
    "# This file is associated with the book\n",
    "# \"Machine Learning Refined\", Cambridge University Press, 2016.\n",
    "# by Jeremy Watt, Reza Borhani, and Aggelos Katsaggelos.\n",
    "\n",
    "import numpy as np\n",
    "import matplotlib.pyplot as plt\n",
    "import csv"
   ]
  },
  {
   "cell_type": "markdown",
   "metadata": {},
   "source": [
    "A simple data loading function."
   ]
  },
  {
   "cell_type": "code",
   "execution_count": 4,
   "metadata": {
    "collapsed": true
   },
   "outputs": [],
   "source": [
    "# import training data \n",
    "def load_data(csvname):\n",
    "    # load in data\n",
    "    reader = csv.reader(open(csvname, \"rb\"), delimiter=\",\")\n",
    "    d = list(reader)\n",
    "\n",
    "    # import data and reshape appropriately\n",
    "    data = np.array(d).astype(\"float\")\n",
    "    X = data[:,0:2]\n",
    "    y = data[:,2]\n",
    "    y.shape = (len(y),1)\n",
    "    \n",
    "    # pad data with ones for more compact gradient computation\n",
    "    o = np.ones((np.shape(X)[0],1))\n",
    "    X = np.concatenate((o,X),axis = 1)\n",
    "    X = X.T\n",
    "    \n",
    "    return X,y"
   ]
  },
  {
   "cell_type": "markdown",
   "metadata": {},
   "source": [
    "All of the functionality required for gradient descent - a function to compute gradients and a descent loop."
   ]
  },
  {
   "cell_type": "code",
   "execution_count": 5,
   "metadata": {
    "collapsed": false
   },
   "outputs": [],
   "source": [
    "# function for computing the softmax cost gradient\n",
    "def compute_gradient(X,y,w):\n",
    "    # produce gradient for each class weights\n",
    "    grad = 0\n",
    "    for p in range(0,len(y)):\n",
    "        x_p = X[:,p]\n",
    "        y_p = y[p]\n",
    "        grad+= -2*max(0,1 - y_p*np.dot(x_p.T,w))*y_p*x_p\n",
    "    \n",
    "    grad.shape = (len(grad),1)\n",
    "    return grad\n",
    "\n",
    "# gradient descent function for softmax cost/logistic regression \n",
    "def squared_margin_grad(X,y):\n",
    "    # Initializations \n",
    "    w = np.random.randn(3,1);        # random initial point\n",
    "    alpha = 10**-2\n",
    "    k = 1\n",
    "    max_its = 2000\n",
    "    grad = 1\n",
    "    \n",
    "    for k in range(max_its):\n",
    "        # compute gradient\n",
    "        grad = compute_gradient(X,y,w)\n",
    "        \n",
    "        # take gradient step\n",
    "        w = w - alpha*grad;\n",
    "        \n",
    "    return w"
   ]
  },
  {
   "cell_type": "markdown",
   "metadata": {},
   "source": [
    "Simple plotting functionality - for plotting points and the separator."
   ]
  },
  {
   "cell_type": "code",
   "execution_count": 6,
   "metadata": {
    "collapsed": true
   },
   "outputs": [],
   "source": [
    "# plots everything \n",
    "def plot_all(X,y,w):\n",
    "    # custom colors for plotting points\n",
    "    red = [1,0,0.4]  \n",
    "    blue = [0,0.4,1]\n",
    "    \n",
    "    # scatter plot points\n",
    "    fig = plt.figure(figsize = (4,4))\n",
    "    ind = np.argwhere(y==1)\n",
    "    ind = [s[0] for s in ind]\n",
    "    plt.scatter(X[1,ind],X[2,ind],color = red,edgecolor = 'k',s = 25)\n",
    "    ind = np.argwhere(y==-1)\n",
    "    ind = [s[0] for s in ind]\n",
    "    plt.scatter(X[1,ind],X[2,ind],color = blue,edgecolor = 'k',s = 25)\n",
    "    plt.grid('off')\n",
    "    \n",
    "    # plot separator\n",
    "    s = np.linspace(0,1,100) \n",
    "    plt.plot(s,(-w[0]-w[1]*s)/w[2],color = 'k',linewidth = 2)\n",
    "    \n",
    "    # clean up plot\n",
    "    plt.xlim([-0.1,1.1])\n",
    "    plt.ylim([-0.1,1.1])\n",
    "    plt.show()"
   ]
  },
  {
   "cell_type": "markdown",
   "metadata": {},
   "source": [
    "With everything defined we can now run all."
   ]
  },
  {
   "cell_type": "code",
   "execution_count": 7,
   "metadata": {
    "collapsed": false
   },
   "outputs": [
    {
     "data": {
      "image/png": "[encoded data removed]",
      "text/plain": [
       "<matplotlib.figure.Figure at 0x104db3950>"
      ]
     },
     "metadata": {},
     "output_type": "display_data"
    }
   ],
   "source": [
    "# load in data\n",
    "X,y = load_data('imbalanced_2class.csv')\n",
    "\n",
    "# run gradient descent\n",
    "w = squared_margin_grad(X,y)\n",
    "\n",
    "# plot points and separator\n",
    "plot_all(X,y,w)"
   ]
  }
 ],
 "metadata": {
  "anaconda-cloud": {},
  "kernelspec": {
   "display_name": "Python [conda root]",
   "language": "python",
   "name": "conda-root-py"
  },
  "language_info": {
   "codemirror_mode": {
    "name": "ipython",
    "version": 2
   },
   "file_extension": ".py",
   "mimetype": "text/x-python",
   "name": "python",
   "nbconvert_exporter": "python",
   "pygments_lexer": "ipython2",
   "version": "2.7.12"
  }
 },
 "nbformat": 4,
 "nbformat_minor": 1
}
