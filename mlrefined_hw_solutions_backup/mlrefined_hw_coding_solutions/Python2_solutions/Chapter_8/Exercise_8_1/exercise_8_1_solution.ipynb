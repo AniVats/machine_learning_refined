{
 "cells": [
  {
   "cell_type": "code",
   "execution_count": 3,
   "metadata": {
    "collapsed": true
   },
   "outputs": [],
   "source": [
    "# This file is associated with the book\n",
    "# \"Machine Learning Refined\", Cambridge University Press, 2016.\n",
    "# by Jeremy Watt, Reza Borhani, and Aggelos Katsaggelos.\n",
    "\n",
    "import numpy as np\n",
    "import matplotlib.pyplot as plt\n",
    "import csv"
   ]
  },
  {
   "cell_type": "markdown",
   "metadata": {},
   "source": [
    "A data loading function."
   ]
  },
  {
   "cell_type": "code",
   "execution_count": 4,
   "metadata": {
    "collapsed": true
   },
   "outputs": [],
   "source": [
    "# import training data \n",
    "def load_data(csvname):\n",
    "    # load in data\n",
    "    reader = csv.reader(open(csvname, \"rb\"), delimiter=\",\")\n",
    "    d = list(reader)\n",
    "\n",
    "    # import data and reshape appropriately\n",
    "    data = np.array(d).astype(\"float\")\n",
    "    X = data[:,0:2]\n",
    "    y = data[:,2]\n",
    "    y.shape = (len(y),1)\n",
    "    \n",
    "    # pad data with ones for more compact gradient computation\n",
    "    o = np.ones((np.shape(X)[0],1))\n",
    "    X = np.concatenate((o,X),axis = 1)\n",
    "    X = X.T\n",
    "    \n",
    "    return X,y"
   ]
  },
  {
   "cell_type": "markdown",
   "metadata": {},
   "source": [
    "The next cell contains all of the functionality for both gradient descent using a fixed step length as well as adaptive step length.  This includes functions for computing the current value of the cost function, gradient, and the descent loop itself."
   ]
  },
  {
   "cell_type": "code",
   "execution_count": 5,
   "metadata": {
    "collapsed": false
   },
   "outputs": [],
   "source": [
    "# compute cost value\n",
    "def compute_cost(X,y,w):\n",
    "    cost = 0\n",
    "    for p in range(0,len(y)):\n",
    "        x_p = X[:,p]\n",
    "        y_p = y[p]\n",
    "        cost += max(0,1 - y_p*np.dot(x_p.T,w))**2\n",
    "    return cost\n",
    "\n",
    "# function for computing the softmax cost gradient\n",
    "def compute_gradient(X,y,w):\n",
    "    # produce gradient for each class weights\n",
    "    grad = 0\n",
    "    for p in range(0,len(y)):\n",
    "        x_p = X[:,p]\n",
    "        y_p = y[p]\n",
    "        grad+= -2*max(0,1 - y_p*np.dot(x_p.T,w))*y_p*x_p\n",
    "    \n",
    "    grad.shape = (len(grad),1)\n",
    "    return grad\n",
    "\n",
    "# gradient descent with fixed step length\n",
    "def grad_descent_fixed_step(X,y,w):\n",
    "    # Initializations \n",
    "    alpha = 10**-2\n",
    "    k = 1\n",
    "    max_its = 100\n",
    "    cost_history = []\n",
    "    for k in range(max_its):\n",
    "        # compute gradient\n",
    "        grad = compute_gradient(X,y,w)\n",
    "        \n",
    "        # take gradient step\n",
    "        w = w - alpha*grad;\n",
    "        \n",
    "        # update container\n",
    "        cost = compute_cost(X,y,w)\n",
    "        cost_history.append(cost)\n",
    "        \n",
    "    return cost_history\n",
    "\n",
    "# gradient descent with fixed step length\n",
    "def grad_descent_adaptive_step(X,y,w):\n",
    "    # Initializations \n",
    "    max_its = 100\n",
    "    cost_history = []\n",
    "    for k in range(max_its):\n",
    "        # compute gradient\n",
    "        grad = compute_gradient(X,y,w)\n",
    "        \n",
    "        # compute step size\n",
    "        alpha = line_search(X,y,w,grad)\n",
    "        \n",
    "        # take gradient step\n",
    "        w = w - alpha*grad;\n",
    "        \n",
    "        # update container\n",
    "        cost = compute_cost(X,y,w)\n",
    "        cost_history.append(cost)\n",
    "        \n",
    "    return cost_history\n",
    "\n",
    "# line search module\n",
    "def line_search(X,y,w,grad):\n",
    "    alpha = 1\n",
    "    t = 0.5\n",
    "    g_w = compute_cost(X,y,w)\n",
    "    norm_w = np.linalg.norm(grad)**2\n",
    "    while compute_cost(X,y,w - alpha*grad) > g_w - alpha*0.5*norm_w:\n",
    "        alpha = t*alpha\n",
    "    return alpha"
   ]
  },
  {
   "cell_type": "markdown",
   "metadata": {},
   "source": [
    "Now that everything is defined, lets use it to compare gradient descent with a fixed step length to adaptive step length in terms of the cost function value at each iteration."
   ]
  },
  {
   "cell_type": "code",
   "execution_count": 6,
   "metadata": {
    "collapsed": false
   },
   "outputs": [
    {
     "data": {
      "image/png": "[encoded data removed]",
      "text/plain": [
       "<matplotlib.figure.Figure at 0x10cc40ed0>"
      ]
     },
     "metadata": {},
     "output_type": "display_data"
    }
   ],
   "source": [
    "# load in data\n",
    "X,y = load_data('imbalanced_2class.csv')\n",
    "\n",
    "# run gradient descent\n",
    "w0 = np.random.randn(3,1);        # random initial point\n",
    "fixed_history = grad_descent_fixed_step(X,y,w0)\n",
    "adaptive_history = grad_descent_adaptive_step(X,y,w0)\n",
    "\n",
    "# plot both runs\n",
    "plt.plot(fixed_history[5:],color = 'm')\n",
    "plt.plot(adaptive_history[5:],'k')\n",
    "\n",
    "# clean up plot\n",
    "plt.ylim([min(min(fixed_history),min(adaptive_history)) - 1,max(max(fixed_history),max(adaptive_history)) + 1])\n",
    "plt.xlabel('iterations')\n",
    "plt.ylabel('cost value')\n",
    "plt.legend(['fixed step','adaptive ste'])\n",
    "plt.title('fixed vs adaptive step length test')\n",
    "plt.show()"
   ]
  }
 ],
 "metadata": {
  "anaconda-cloud": {},
  "kernelspec": {
   "display_name": "Python [conda root]",
   "language": "python",
   "name": "conda-root-py"
  },
  "language_info": {
   "codemirror_mode": {
    "name": "ipython",
    "version": 2
   },
   "file_extension": ".py",
   "mimetype": "text/x-python",
   "name": "python",
   "nbconvert_exporter": "python",
   "pygments_lexer": "ipython2",
   "version": "2.7.12"
  }
 },
 "nbformat": 4,
 "nbformat_minor": 1
}
