{
 "cells": [
  {
   "cell_type": "code",
   "execution_count": 8,
   "metadata": {
    "collapsed": true
   },
   "outputs": [],
   "source": [
    "# This file is associated with the book\n",
    "# \"Machine Learning Refined\", Cambridge University Press, 2016.\n",
    "# by Jeremy Watt, Reza Borhani, and Aggelos Katsaggelos.\n",
    "\n",
    "import numpy as np\n",
    "import matplotlib.pyplot as plt\n",
    "from mpl_toolkits.mplot3d import Axes3D"
   ]
  },
  {
   "cell_type": "markdown",
   "metadata": {},
   "source": [
    "In the next cell we have a standard data loading function."
   ]
  },
  {
   "cell_type": "code",
   "execution_count": 9,
   "metadata": {
    "collapsed": true
   },
   "outputs": [],
   "source": [
    "# load the data\n",
    "def load_data():\n",
    "    # load data\n",
    "    data = np.matrix(np.genfromtxt('4class_data.csv', delimiter=','))\n",
    "    x = np.asarray(data[:,0:-1])\n",
    "    y = np.asarray(data[:,-1])\n",
    "    y.shape = (np.size(y),1)\n",
    "    return x,y"
   ]
  },
  {
   "cell_type": "markdown",
   "metadata": {},
   "source": [
    "Next we have all of the functions required for gradient descent functionality - a function to calcualte current cost value, gradient, and the gradient descent with **fixed step length** loop itself."
   ]
  },
  {
   "cell_type": "code",
   "execution_count": 10,
   "metadata": {
    "collapsed": false
   },
   "outputs": [],
   "source": [
    "# calculate the cost value of the softmax multiclass cost for a given input weight W=[w_1,...,w_C]\n",
    "def calculate_cost(X,y,W):\n",
    "    # define limits\n",
    "    P = len(y)\n",
    "    C = len(np.unique(y))\n",
    "    \n",
    "    # loop for cost function\n",
    "    cost = 0\n",
    "    for p in range(0,P):\n",
    "        p_c = int(y[p])-1\n",
    "        temp = 0\n",
    "        \n",
    "        # produce innner sum\n",
    "        for j in range(0,C):\n",
    "            temp += np.exp(np.dot(X[:,p].T,(W[:,j] - W[:,p_c])))\n",
    "\n",
    "        # update outer sum \n",
    "        cost+=np.log(temp)\n",
    "    return cost\n",
    "\n",
    "# compute mini gradient\n",
    "def compute_mini_grad(x_p,y_p,W,c,C):\n",
    "    # produce gradient for each class weights\n",
    "    temp = 0\n",
    "    for j in range(0,C):\n",
    "        temp+=np.exp(np.dot(x_p.T,W[:,j] - W[:,c]))\n",
    "    temp = (np.divide(1,temp) - int(y_p == (c+1)))*x_p\n",
    "    \n",
    "    return temp\n",
    "\n",
    "# learn all C separators running gradient descent\n",
    "def gradient_descent_fixed_step(x,y):\n",
    "    # formulate full input data matrix X\n",
    "    temp = np.shape(x)  \n",
    "    temp = np.ones((temp[0],1))\n",
    "    X = np.concatenate((temp,x),1)\n",
    "    X = X.T\n",
    "    \n",
    "    # initialize variables\n",
    "    C = len(np.unique(y))\n",
    "    N,P = np.shape(X)\n",
    "    W = np.random.randn(N,C)\n",
    "    \n",
    "    # compute conservatively optimal fixed step length\n",
    "    L = 0.25*C*np.linalg.norm(X,2)**2\n",
    "    alpha = 1/L\n",
    "    \n",
    "    # record number of misclassifications on training set at each epoch \n",
    "    cost_history = []\n",
    "\n",
    "    # outer descent loop\n",
    "    max_its = 100\n",
    "    for k in range(max_its):\n",
    "        grad = np.zeros((np.shape(W)))\n",
    "\n",
    "        # take stochastic step in pth point\n",
    "        for p in range(0,P):\n",
    "            # re-initialize full gradient with zeros\n",
    "            temp_grad = np.zeros((np.shape(W)))\n",
    "        \n",
    "            # update each classifier's weights on pth point\n",
    "            for c in range(0,C):\n",
    "                # compute cth class gradient in pth point\n",
    "                x_p = X[:,p]\n",
    "                y_p = y[p]\n",
    "                temp = compute_mini_grad(x_p,y_p,W,c,C)\n",
    "                temp_grad[:,c] += temp.ravel()\n",
    "                \n",
    "            # update gradient\n",
    "            grad += temp_grad\n",
    "        \n",
    "        # take stochastic gradient step in all weights\n",
    "        W = W - alpha*grad\n",
    "\n",
    "        # update misclass container and associated best W\n",
    "        current_cost = calculate_cost(X,y,W)\n",
    "        cost_history.append(current_cost)\n",
    "    \n",
    "    # return goodies\n",
    "    return cost_history"
   ]
  },
  {
   "cell_type": "markdown",
   "metadata": {},
   "source": [
    "In the next cell we have all of the functions required for gradient descent functionality - a function to calcualte current cost value, gradient, and the gradient descent with **adaptive step length** loop itself."
   ]
  },
  {
   "cell_type": "code",
   "execution_count": 11,
   "metadata": {
    "collapsed": true
   },
   "outputs": [],
   "source": [
    "# calculate the cost function value of the softmax multiclass cost for a given input weight W=[w_1,...,w_C]\n",
    "def calculate_cost(X,y,W):\n",
    "    # define limits\n",
    "    P = len(y)\n",
    "    C = len(np.unique(y))\n",
    "    \n",
    "    # loop for cost function\n",
    "    cost = 0\n",
    "    for p in range(0,P):\n",
    "        p_c = int(y[p])-1\n",
    "        temp = 0\n",
    "        \n",
    "        # produce innner sum\n",
    "        for j in range(0,C):\n",
    "            temp += np.exp(np.dot(X[:,p].T,(W[:,j] - W[:,p_c])))\n",
    "\n",
    "        # update outer sum \n",
    "        cost+=np.log(temp)\n",
    "    return cost\n",
    "\n",
    "# compute mini gradient\n",
    "def compute_mini_grad(x_p,y_p,W,c,C):\n",
    "    # produce gradient for each class weights\n",
    "    temp = 0\n",
    "    for j in range(0,C):\n",
    "        temp+=np.exp(np.dot(x_p.T,W[:,j] - W[:,c]))\n",
    "    temp = (np.divide(1,temp) - int(y_p == (c+1)))*x_p\n",
    "    \n",
    "    return temp\n",
    "\n",
    "# learn all C separators running gradient descent\n",
    "def gradient_descent_line_search(x,y):\n",
    "    # formulate full input data matrix X\n",
    "    temp = np.shape(x)  \n",
    "    temp = np.ones((temp[0],1))\n",
    "    X = np.concatenate((temp,x),1)\n",
    "    X = X.T\n",
    "    \n",
    "    # initialize variables\n",
    "    C = len(np.unique(y))\n",
    "    N,P = np.shape(X)\n",
    "    W = np.random.randn(N,C)\n",
    "    \n",
    "    # record number of misclassifications on training set at each epoch \n",
    "    cost_history = []\n",
    "\n",
    "    # outer descent loop\n",
    "    max_its = 100\n",
    "    for k in range(max_its):\n",
    "        grad = np.zeros((np.shape(W)))\n",
    "\n",
    "        # take stochastic step in pth point\n",
    "        for p in range(0,P):\n",
    "            # re-initialize full gradient with zeros\n",
    "            temp_grad = np.zeros((np.shape(W)))\n",
    "        \n",
    "            # update each classifier's weights on pth point\n",
    "            for c in range(0,C):\n",
    "                # compute cth class gradient in pth point\n",
    "                x_p = X[:,p]\n",
    "                y_p = y[p]\n",
    "                temp = compute_mini_grad(x_p,y_p,W,c,C)\n",
    "                temp_grad[:,c] += temp.ravel()\n",
    "                \n",
    "            # update gradient\n",
    "            grad += temp_grad\n",
    "        \n",
    "        # perform line search for step length tuning\n",
    "        alpha = line_search(X,y,W,grad)\n",
    "        \n",
    "        # take gradient step in all weights\n",
    "        W = W - alpha*grad\n",
    "\n",
    "        # update misclass container and associated best W\n",
    "        current_cost = calculate_cost(X,y,W)\n",
    "        cost_history.append(current_cost)\n",
    "    \n",
    "    # return goodies\n",
    "    return cost_history\n",
    "\n",
    "# line search module\n",
    "def line_search(X,y,W,grad):\n",
    "    alpha = 1\n",
    "    t = 0.5\n",
    "    g_w = calculate_cost(X,y,W)\n",
    "    norm_w = np.linalg.norm(grad)**2\n",
    "    while calculate_cost(X,y,W - alpha*grad) > g_w - alpha*0.5*norm_w:\n",
    "        alpha = t*alpha\n",
    "    return alpha"
   ]
  },
  {
   "cell_type": "markdown",
   "metadata": {},
   "source": [
    "Now that we have defined all of the necessary pieces, lets run everything and plot the results."
   ]
  },
  {
   "cell_type": "code",
   "execution_count": 12,
   "metadata": {
    "collapsed": false
   },
   "outputs": [
    {
     "data": {
      "image/png": "[encoded data removed]",
      "text/plain": [
       "<matplotlib.figure.Figure at 0x10f251e90>"
      ]
     },
     "metadata": {},
     "output_type": "display_data"
    }
   ],
   "source": [
    "# load data\n",
    "x,y = load_data()\n",
    "\n",
    "# perform gradient descent on softmax multiclass\n",
    "cost_history_fixed = gradient_descent_fixed_step(x,y)           \n",
    "cost_history_adaptive = gradient_descent_line_search(x,y)  \n",
    "\n",
    "# plot both runs\n",
    "plt.plot(cost_history_fixed[5:],color = 'm')\n",
    "plt.plot(cost_history_adaptive[5:],'k')\n",
    "\n",
    "# clean up plot\n",
    "plt.ylim([min(min(cost_history_fixed),min(cost_history_adaptive)) - 1,max(max(cost_history_fixed),max(cost_history_adaptive)) + 1])\n",
    "plt.xlabel('iterations')\n",
    "plt.ylabel('cost value')\n",
    "plt.legend(['fixed step','adaptive ste'])\n",
    "plt.title('fixed vs adaptive step length test')\n",
    "plt.show()"
   ]
  }
 ],
 "metadata": {
  "anaconda-cloud": {},
  "kernelspec": {
   "display_name": "Python [conda root]",
   "language": "python",
   "name": "conda-root-py"
  },
  "language_info": {
   "codemirror_mode": {
    "name": "ipython",
    "version": 2
   },
   "file_extension": ".py",
   "mimetype": "text/x-python",
   "name": "python",
   "nbconvert_exporter": "python",
   "pygments_lexer": "ipython2",
   "version": "2.7.12"
  }
 },
 "nbformat": 4,
 "nbformat_minor": 1
}
