{
 "cells": [
  {
   "cell_type": "code",
   "execution_count": 1,
   "metadata": {
    "collapsed": true
   },
   "outputs": [],
   "source": [
    "# This file is associated with the book\n",
    "# \"Machine Learning Refined\", Cambridge University Press, 2016.\n",
    "# by Jeremy Watt, Reza Borhani, and Aggelos Katsaggelos.\n",
    "\n",
    "import numpy as np\n",
    "import matplotlib.pyplot as plt\n",
    "import csv"
   ]
  },
  {
   "cell_type": "markdown",
   "metadata": {},
   "source": [
    "Define a data loading function."
   ]
  },
  {
   "cell_type": "code",
   "execution_count": 2,
   "metadata": {
    "collapsed": true
   },
   "outputs": [],
   "source": [
    "# import training data \n",
    "def load_data(csvname):\n",
    "    # load in data\n",
    "    reader = csv.reader(open(csvname, \"rb\"), delimiter=\",\")\n",
    "    d = list(reader)\n",
    "\n",
    "    # import data and reshape appropriately\n",
    "    data = np.array(d).astype(\"float\")\n",
    "    X = data[:,0:2]\n",
    "    y = data[:,2]\n",
    "    y.shape = (len(y),1)\n",
    "    \n",
    "    # pad data with ones for more compact gradient computation\n",
    "    o = np.ones((np.shape(X)[0],1))\n",
    "    X = np.concatenate((o,X),axis = 1)\n",
    "    X = X.T\n",
    "    \n",
    "    # randomly shuffle data\n",
    "    a = np.random.permutation(np.shape(X)[1])\n",
    "    X = X[:,a]\n",
    "    \n",
    "    return X,y"
   ]
  },
  {
   "cell_type": "markdown",
   "metadata": {},
   "source": [
    "All of the necessary functionality for both gradient descent and stochastic gradient descent is in the next cell - including a function to calculate the current cost, gradient, and stochastic loop itself."
   ]
  },
  {
   "cell_type": "code",
   "execution_count": 3,
   "metadata": {
    "collapsed": true
   },
   "outputs": [],
   "source": [
    "# compute cost value\n",
    "def compute_cost(X,y,w):\n",
    "    cost = 0\n",
    "    for p in range(0,len(y)):\n",
    "        x_p = X[:,p]\n",
    "        y_p = y[p]\n",
    "        cost += max(0,1 - y_p*np.dot(x_p.T,w))**2\n",
    "    return cost\n",
    "\n",
    "# function for computing the softmax cost gradient\n",
    "def compute_gradient(X,y,w):\n",
    "    # produce gradient for each class weights\n",
    "    grad = 0\n",
    "    for p in range(0,len(y)):\n",
    "        x_p = X[:,p]\n",
    "        y_p = y[p]\n",
    "        grad+= -2*max(0,1 - y_p*np.dot(x_p.T,w))*y_p*x_p\n",
    "    \n",
    "    grad.shape = (len(grad),1)\n",
    "    return grad\n",
    "\n",
    "# gradient descent with fixed step length\n",
    "def grad_descent(X,y,w):\n",
    "    # Initializations \n",
    "    L = 2*np.linalg.norm(X,2)**2\n",
    "    alpha = 1/L\n",
    "    max_its = 100\n",
    "    cost_history = []\n",
    "    for k in range(max_its):\n",
    "        # compute gradient\n",
    "        grad = compute_gradient(X,y,w)\n",
    "        \n",
    "        # take gradient step\n",
    "        w = w - alpha*grad;\n",
    "        \n",
    "        # update container\n",
    "        cost = compute_cost(X,y,w)\n",
    "        cost_history.append(cost)\n",
    "        \n",
    "    return cost_history\n",
    "\n",
    "# gradient descent with fixed step length\n",
    "def stochastic_grad_descent(X,y,w):\n",
    "    # Initializations \n",
    "    max_its = 100\n",
    "    cost_history = []\n",
    "    for k in range(max_its):\n",
    "        # setup step length for this epoch\n",
    "        alpha = 1/float(k+1)\n",
    "        \n",
    "        # sweep through on one epoch\n",
    "        grad = 0\n",
    "        for p in range(0,len(y)):\n",
    "            x_p = X[:,p]\n",
    "            y_p = y[p]\n",
    "            grad = -2*max(0,1 - y_p*np.dot(x_p.T,w))*y_p*x_p\n",
    "            grad.shape = (len(grad),1)\n",
    "            w = w - alpha*grad\n",
    "        \n",
    "        # update container\n",
    "        cost = compute_cost(X,y,w)\n",
    "        cost_history.append(cost)\n",
    "        \n",
    "    return cost_history"
   ]
  },
  {
   "cell_type": "markdown",
   "metadata": {},
   "source": [
    "With all functionality defined we can then run the two algorithms and compare."
   ]
  },
  {
   "cell_type": "code",
   "execution_count": 5,
   "metadata": {
    "collapsed": false
   },
   "outputs": [
    {
     "data": {
      "image/png": "[encoded data removed]",
      "text/plain": [
       "<matplotlib.figure.Figure at 0x10cb26b50>"
      ]
     },
     "metadata": {},
     "output_type": "display_data"
    }
   ],
   "source": [
    "# load in data\n",
    "X,y = load_data('feat_face_data.csv')\n",
    "\n",
    "# run gradient descent\n",
    "w0 = np.random.randn(3,1);        # random initial point\n",
    "grad_history = grad_descent(X,y,w0)\n",
    "stochastic_history = stochastic_grad_descent(X,y,w0)\n",
    "\n",
    "# plot both runs\n",
    "plt.plot(grad_history,color = 'm')\n",
    "plt.plot(stochastic_history,'k')\n",
    "\n",
    "# clean up plot\n",
    "plt.ylim([min(min(grad_history),min(stochastic_history)),max(max(grad_history),max(stochastic_history))])\n",
    "plt.xlabel('iterations')\n",
    "plt.ylabel('cost value')\n",
    "plt.legend(['standard gradient descent','stochastic gradient'],loc='center left', bbox_to_anchor=(1, 0.5))\n",
    "plt.show()"
   ]
  },
  {
   "cell_type": "code",
   "execution_count": null,
   "metadata": {
    "collapsed": true
   },
   "outputs": [],
   "source": []
  }
 ],
 "metadata": {
  "anaconda-cloud": {},
  "kernelspec": {
   "display_name": "Python [conda root]",
   "language": "python",
   "name": "conda-root-py"
  },
  "language_info": {
   "codemirror_mode": {
    "name": "ipython",
    "version": 2
   },
   "file_extension": ".py",
   "mimetype": "text/x-python",
   "name": "python",
   "nbconvert_exporter": "python",
   "pygments_lexer": "ipython2",
   "version": "2.7.12"
  }
 },
 "nbformat": 4,
 "nbformat_minor": 1
}
