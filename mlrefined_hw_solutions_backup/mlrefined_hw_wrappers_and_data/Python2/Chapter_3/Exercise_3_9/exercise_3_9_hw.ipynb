{
 "cells": [
  {
   "cell_type": "code",
   "execution_count": null,
   "metadata": {
    "collapsed": false
   },
   "outputs": [],
   "source": [
    "# This file is associated with the book\n",
    "# \"Machine Learning Refined\", Cambridge University Press, 2016.\n",
    "# by Jeremy Watt, Reza Borhani, and Aggelos Katsaggelos.\n",
    "\n",
    "import numpy as np\n",
    "import matplotlib.pyplot as plt\n",
    "import csv\n",
    "%matplotlib inline\n",
    "\n",
    "# import the dataset\n",
    "reader = csv.reader(open(\"asteroid_data.csv\", \"rb\"), delimiter=\",\")\n",
    "d = list(reader)\n",
    "\n",
    "# import data and reshape appropriately\n",
    "data = np.array(d).astype(\"float\")\n",
    "x = data[:,0]\n",
    "x.shape = (len(x),1)\n",
    "y = data[:,1]\n",
    "y.shape = (len(y),1)\n",
    "\n",
    "# YOUR CODE GOES HERE - transform input / output and solve the associated linear system to minimize the Least Squares cost \n",
    "\n",
    "w = \n",
    "\n",
    "# plot data and fit - here we use matplotlib's contour function to get the elliptical fit right in the plot\n",
    "plt.scatter(x,y,linewidth = 3)\n",
    "s = np.linspace(-7,7,200)\n",
    "e,r = np.meshgrid(s,s)\n",
    "z = e*e*w[0] + r*r*w[1] - 1\n",
    "plt.contour(e,r,z,levels = [0])\n",
    "\n",
    "# clean up plot\n",
    "plt.xlabel('x1',fontsize =14)\n",
    "plt.ylabel('x2',rotation = 0,fontsize = 14)\n",
    "plt.xlim([min(x)-1,max(x)+1])\n",
    "plt.ylim([min(y)-1,max(y)+1])"
   ]
  }
 ],
 "metadata": {
  "anaconda-cloud": {},
  "kernelspec": {
   "display_name": "Python [conda root]",
   "language": "python",
   "name": "conda-root-py"
  },
  "language_info": {
   "codemirror_mode": {
    "name": "ipython",
    "version": 2
   },
   "file_extension": ".py",
   "mimetype": "text/x-python",
   "name": "python",
   "nbconvert_exporter": "python",
   "pygments_lexer": "ipython2",
   "version": "2.7.12"
  }
 },
 "nbformat": 4,
 "nbformat_minor": 1
}
