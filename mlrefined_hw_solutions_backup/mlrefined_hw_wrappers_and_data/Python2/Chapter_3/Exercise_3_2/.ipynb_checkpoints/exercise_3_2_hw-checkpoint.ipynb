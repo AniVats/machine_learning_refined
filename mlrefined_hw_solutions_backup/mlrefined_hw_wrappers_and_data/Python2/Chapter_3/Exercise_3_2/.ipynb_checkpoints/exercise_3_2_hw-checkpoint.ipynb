{
 "cells": [
  {
   "cell_type": "code",
   "execution_count": null,
   "metadata": {
    "collapsed": false
   },
   "outputs": [],
   "source": [
    "# This file is associated with the book\n",
    "# \"Machine Learning Refined\", Cambridge University Press, 2016.\n",
    "# by Jeremy Watt, Reza Borhani, and Aggelos Katsaggelos.\n",
    "\n",
    "import pandas as pd\n",
    "import numpy as np\n",
    "import matplotlib.pyplot as plt\n",
    "import csv\n",
    "\n",
    "# import the dataset\n",
    "reader = csv.reader(open(\"kleibers_law_data.csv\", \"rb\"), delimiter=\",\")\n",
    "d = list(reader)\n",
    "\n",
    "# grab column names\n",
    "col_names = d[0]\n",
    "d.pop(0)\n",
    "\n",
    "# import data and reshape appropriately\n",
    "data = np.array(d).astype(\"float\")\n",
    "x = data[:,0]\n",
    "x.shape = (len(x),1)\n",
    "y = data[:,1]\n",
    "y.shape = (len(y),1)\n",
    "\n",
    "# YOUR CODE GOES HERE - log-transform the data and solve for the Least Squares weights\n",
    "\n",
    "w =\n",
    "\n",
    "# print out predicted amount of student debt in 2050\n",
    "ten_kg_animal_metrate = w[0] + w[1]*np.log(10)\n",
    "print 'a 10kg animal requires ' + str(np.exp(ten_kg_animal_metrate[0]* 4.18) + ' calories'\n",
    "\n",
    "# plot data with linear fit - this is optional\n",
    "s = np.linspace(np.min(x),np.max(x))\n",
    "t = w[0] + w[1]*s\n",
    "plt.plot(s,t,linewidth = 3)\n",
    "plt.scatter(x,y,linewidth = 1)\n",
    "plt.xlabel('log of mass (in kgs)')\n",
    "plt.ylabel('log of metabolic rate (in Js)')"
   ]
  }
 ],
 "metadata": {
  "anaconda-cloud": {},
  "kernelspec": {
   "display_name": "Python [default]",
   "language": "python",
   "name": "python2"
  },
  "language_info": {
   "codemirror_mode": {
    "name": "ipython",
    "version": 2
   },
   "file_extension": ".py",
   "mimetype": "text/x-python",
   "name": "python",
   "nbconvert_exporter": "python",
   "pygments_lexer": "ipython2",
   "version": "2.7.12"
  }
 },
 "nbformat": 4,
 "nbformat_minor": 0
}
