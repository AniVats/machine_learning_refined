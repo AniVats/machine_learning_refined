{
 "cells": [
  {
   "cell_type": "code",
   "execution_count": null,
   "metadata": {
    "collapsed": false
   },
   "outputs": [],
   "source": [
    "# This file is associated with the book\n",
    "# \"Machine Learning Refined\", Cambridge University Press, 2016.\n",
    "# by Jeremy Watt, Reza Borhani, and Aggelos Katsaggelos.\n",
    "\n",
    "import pandas as pd\n",
    "import numpy as np\n",
    "import matplotlib.pyplot as plt\n",
    "import csv\n",
    "\n",
    "# import the dataset\n",
    "reader = csv.reader(open(\"Galileo_data.csv\", \"rb\"), delimiter=\",\")\n",
    "d = list(reader)\n",
    "\n",
    "# import data and reshape appropriately\n",
    "data = np.array(d).astype(\"float\")\n",
    "x = data[:,0]\n",
    "x.shape = (len(x),1)\n",
    "y = data[:,1]\n",
    "y.shape = (len(y),1)\n",
    "\n",
    "# YOUR CODE GOES HERE - transform input feature --> to squared --. and solve for Least Squares minimizing weights\n",
    "\n",
    "w = \n",
    "\n",
    "# plot data with linear fit - this is optional\n",
    "s = np.linspace(np.min(x),np.max(x))\n",
    "t = w*(s*s)\n",
    "plt.plot(s,t,linewidth = 3,color='m')\n",
    "plt.scatter(x,y,linewidth = 4)\n",
    "plt.xlabel('x')\n",
    "plt.ylabel('y',rotation = 0)\n",
    "plt.title('Galileo ramp data plot')\n",
    "plt.show()"
   ]
  }
 ],
 "metadata": {
  "anaconda-cloud": {},
  "kernelspec": {
   "display_name": "Python [conda root]",
   "language": "python",
   "name": "conda-root-py"
  },
  "language_info": {
   "codemirror_mode": {
    "name": "ipython",
    "version": 2
   },
   "file_extension": ".py",
   "mimetype": "text/x-python",
   "name": "python",
   "nbconvert_exporter": "python",
   "pygments_lexer": "ipython2",
   "version": "2.7.12"
  }
 },
 "nbformat": 4,
 "nbformat_minor": 1
}
