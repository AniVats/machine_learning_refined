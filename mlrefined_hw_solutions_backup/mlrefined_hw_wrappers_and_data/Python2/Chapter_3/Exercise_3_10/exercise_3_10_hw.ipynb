{
 "cells": [
  {
   "cell_type": "code",
   "execution_count": null,
   "metadata": {
    "collapsed": false
   },
   "outputs": [],
   "source": [
    "# This file is associated with the book\n",
    "# \"Machine Learning Refined\", Cambridge University Press, 2016.\n",
    "# by Jeremy Watt, Reza Borhani, and Aggelos Katsaggelos.\n",
    "\n",
    "import numpy as np\n",
    "import matplotlib.pyplot as plt\n",
    "import csv\n",
    "\n",
    "# import the dataset\n",
    "reader = csv.reader(open(\"bacteria_data.csv\", \"rb\"), delimiter=\",\")\n",
    "d = list(reader)\n",
    "\n",
    "# import data and reshape appropriately\n",
    "data = np.array(d).astype(\"float\")\n",
    "x = data[:,0]\n",
    "x.shape = (len(x),1)\n",
    "y = data[:,1]\n",
    "y.shape = (len(y),1)\n",
    "\n",
    "# YOUR CODE GOES HERE - transform data and solve the associated linear system to minimize the Least Squares cost \n",
    "\n",
    "w = \n",
    "\n",
    "# plot data and fit\n",
    "plt.scatter(x,y,c = 'k')\n",
    "s = np.linspace(min(x),max(x))\n",
    "t = 1/(1 + np.exp(- (w[0] + w[1]*s)))\n",
    "plt.plot(s,t)"
   ]
  }
 ],
 "metadata": {
  "anaconda-cloud": {},
  "kernelspec": {
   "display_name": "Python [conda root]",
   "language": "python",
   "name": "conda-root-py"
  },
  "language_info": {
   "codemirror_mode": {
    "name": "ipython",
    "version": 2
   },
   "file_extension": ".py",
   "mimetype": "text/x-python",
   "name": "python",
   "nbconvert_exporter": "python",
   "pygments_lexer": "ipython2",
   "version": "2.7.12"
  }
 },
 "nbformat": 4,
 "nbformat_minor": 1
}
