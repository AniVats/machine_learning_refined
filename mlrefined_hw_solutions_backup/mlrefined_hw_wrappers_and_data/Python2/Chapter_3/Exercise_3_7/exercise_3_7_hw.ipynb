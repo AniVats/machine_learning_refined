{
 "cells": [
  {
   "cell_type": "code",
   "execution_count": null,
   "metadata": {
    "collapsed": false
   },
   "outputs": [],
   "source": [
    "# This file is associated with the book\n",
    "# \"Machine Learning Refined\", Cambridge University Press, 2016.\n",
    "# by Jeremy Watt, Reza Borhani, and Aggelos Katsaggelos.\n",
    "import numpy as np\n",
    "import matplotlib.pyplot as plt\n",
    "import csv\n",
    "%matplotlib inline\n",
    "\n",
    "# import the dataset\n",
    "reader = csv.reader(open(\"transistor_counts.csv\", \"rb\"), delimiter=\",\")\n",
    "d = list(reader)\n",
    "\n",
    "# import data and reshape appropriately\n",
    "data = np.array(d).astype(\"float\")\n",
    "x = data[:,0]\n",
    "x.shape = (len(x),1)\n",
    "y = data[:,1]\n",
    "y.shape = (len(y),1)\n",
    "\n",
    "# YOUR CODE GOES HERE - transform y and solve the associated linear system to minimize the Least Squares cost \n",
    "\n",
    "w = \n",
    "\n",
    "### plot data with sinusoidal fit in original space and corresponding linear fit in transformed feature space \n",
    "fig = plt.figure(figsize = (16,5))\n",
    "ax1 = fig.add_subplot(1,1,1)  # panel for original space\n",
    "\n",
    "# plot data and fit\n",
    "ax1.scatter(x,y,linewidth = 3)\n",
    "s = np.linspace(np.min(x),np.max(x))\n",
    "t = np.exp(w[0] + w[1]*s)\n",
    "ax1.plot(s,t,linewidth = 3)\n",
    "ax1.set_xlabel('x',fontsize =18)\n",
    "ax1.set_ylabel('y',rotation = 0,fontsize = 18)\n",
    "ax1.set_title('original space',fontsize = 22)"
   ]
  }
 ],
 "metadata": {
  "anaconda-cloud": {},
  "kernelspec": {
   "display_name": "Python [conda root]",
   "language": "python",
   "name": "conda-root-py"
  },
  "language_info": {
   "codemirror_mode": {
    "name": "ipython",
    "version": 2
   },
   "file_extension": ".py",
   "mimetype": "text/x-python",
   "name": "python",
   "nbconvert_exporter": "python",
   "pygments_lexer": "ipython2",
   "version": "2.7.12"
  }
 },
 "nbformat": 4,
 "nbformat_minor": 1
}
